{
  "nbformat": 4,
  "nbformat_minor": 0,
  "metadata": {
    "colab": {
      "provenance": []
    },
    "kernelspec": {
      "name": "python3",
      "display_name": "Python 3"
    },
    "language_info": {
      "name": "python"
    }
  },
  "cells": [
    {
      "cell_type": "markdown",
      "source": [
        "# ***HW04***\n",
        "---"
      ],
      "metadata": {
        "id": "B0LkZI44z5Gi"
      }
    },
    {
      "cell_type": "markdown",
      "source": [
        "### ***Problem01***"
      ],
      "metadata": {
        "id": "gsky40Bj0lql"
      }
    },
    {
      "cell_type": "code",
      "source": [
        "### (2)\n",
        "import matplotlib.pyplot as plt\n",
        "import numpy as np\n",
        "# Data points\n",
        "x1 = np.array([-3, -2, 3])\n",
        "y1 = np.array([9, 4, 9])\n",
        "x2 = np.array([-1, 0, 1])\n",
        "y2 = np.array([1, 0, 1])\n",
        "# Scatter plot\n",
        "plt.figure(figsize=(5,3))\n",
        "plt.scatter(x1, y1, color=\"red\")\n",
        "plt.scatter(x2, y2, color=\"blue\")\n",
        "plt.xlabel(\"z1\")\n",
        "plt.ylabel(\"z2\")\n",
        "plt.title(\"SVM\")\n",
        "plt.legend()\n",
        "plt.grid()\n",
        "plt.show"
      ],
      "metadata": {
        "colab": {
          "base_uri": "https://localhost:8080/",
          "height": 369
        },
        "id": "rze-OWKzSIzV",
        "outputId": "63d3a3be-e998-435c-8e51-d2e93507f320"
      },
      "execution_count": null,
      "outputs": [
        {
          "output_type": "stream",
          "name": "stderr",
          "text": [
            "WARNING:matplotlib.legend:No artists with labels found to put in legend.  Note that artists whose label start with an underscore are ignored when legend() is called with no argument.\n"
          ]
        },
        {
          "output_type": "execute_result",
          "data": {
            "text/plain": [
              "<function matplotlib.pyplot.show(close=None, block=None)>"
            ]
          },
          "metadata": {},
          "execution_count": 1
        },
        {
          "output_type": "display_data",
          "data": {
            "text/plain": [
              "<Figure size 500x300 with 1 Axes>"
            ],
            "image/png": "[encoded data removed]"
          },
          "metadata": {}
        }
      ]
    },
    {
      "cell_type": "code",
      "source": [
        "### (6), (7)\n",
        "# Data points\n",
        "x1 = np.array([-3, -2, 3])\n",
        "y1 = np.array([9, 4, 9])\n",
        "x2 = np.array([-1, 0, 1])\n",
        "y2 = np.array([1, 0, 1])\n",
        "# Linear function\n",
        "x = np.linspace(-5, 5, 100)\n",
        "y = (1/3)*x+3 \n",
        "# Support Vector\n",
        "sv_x1 = np.array([-2])\n",
        "sv_y1 = np.array([4])\n",
        "sv_x2 = np.array([-1])\n",
        "sv_y2 = np.array([1])\n",
        "# Margin\n",
        "point1 = [-2, 4]\n",
        "point2 = [-1, 1] \n",
        "x_values = [point1[0], point2[0]]\n",
        "y_values = [point1[1], point2[1]]\n",
        "# Scatter plot\n",
        "plt.figure(figsize=(5,3))\n",
        "plt.plot(sv_x1, sv_y1 ,marker=\"D\", markeredgecolor=\"green\")\n",
        "plt.plot(sv_x2, sv_y2 ,marker=\"D\", markeredgecolor=\"green\")\n",
        "plt.plot(x_values, y_values, linestyle=\"--\")\n",
        "plt.plot(x, y, \"-r\", label=\"y=1/3x+3\")\n",
        "plt.scatter(x1, y1, color=\"red\")\n",
        "plt.scatter(x2, y2, color=\"blue\")\n",
        "plt.xlabel(\"z1\")\n",
        "plt.ylabel(\"z2\")\n",
        "plt.title(\"SVM\")\n",
        "plt.legend()\n",
        "plt.grid()\n",
        "plt.show"
      ],
      "metadata": {
        "id": "qRN3-BJvVQuC",
        "colab": {
          "base_uri": "https://localhost:8080/",
          "height": 351
        },
        "outputId": "dc44c5ad-58c9-4884-9d70-4a818498a594"
      },
      "execution_count": null,
      "outputs": [
        {
          "output_type": "execute_result",
          "data": {
            "text/plain": [
              "<function matplotlib.pyplot.show(close=None, block=None)>"
            ]
          },
          "metadata": {},
          "execution_count": 2
        },
        {
          "output_type": "display_data",
          "data": {
            "text/plain": [
              "<Figure size 500x300 with 1 Axes>"
            ],
            "image/png": "[encoded data removed]"
          },
          "metadata": {}
        }
      ]
    },
    {
      "cell_type": "markdown",
      "source": [
        "### ***Problem02***"
      ],
      "metadata": {
        "id": "ICdkAUktVNO5"
      }
    },
    {
      "cell_type": "code",
      "source": [
        "### Build Perceptron Algorithm\n",
        "from sklearn.base import BaseEstimator\n",
        "import pandas as pd\n",
        "import numpy as np\n",
        "\n",
        "class Perceptron(BaseEstimator):\n",
        "    def __init__(self, alpha, n_epochs):\n",
        "        self.alpha = alpha\n",
        "        self.n_epochs = n_epochs\n",
        "        \n",
        "    def fit(self, X, y):\n",
        "        (n, m) = X.shape\n",
        "        self.w = np.random.randn(m)\n",
        "        self.b = 0\n",
        "        \n",
        "        # Train NN\n",
        "        for epoch in range(self.n_epochs):\n",
        "            n_errors = 0\n",
        "            for i in range(n):\n",
        "                o = self.predict(X[i])\n",
        "                if o != y[i]:\n",
        "                    self.w += self.alpha * 2*(y[i] - o) * X[i]\n",
        "                    self.b += self.alpha * 2*(y[i] - o)\n",
        "                    n_errors += 1\n",
        "            \n",
        "            # Get accuracy \n",
        "            accuracy = 1 - (n_errors / n)\n",
        "            print(\"Epoch:\", (epoch+1), \"Accuracy:\", (accuracy))\n",
        "            \n",
        "            if n_errors == 0:\n",
        "                break\n",
        "                \n",
        "    def predict(self, X):\n",
        "        z = self.w @ X + self.b\n",
        "        return np.heaviside(z, 1)\n",
        "\n",
        "### Proceed Data\n",
        "x0 = [1,1,1,1,1,1,1,1] # Bias\n",
        "x1 = [1,1,0,-1,1,-1,0,1]\n",
        "x2 = [4,2,0,4,0,-1,-4,0]\n",
        "x3 = [1,3,1,0,-2,1,0,-3]\n",
        "y = [1,1,1,1,0,0,0,0] # Target\n",
        "df = pd.DataFrame({\"x0\":x0, \"x1\":x1, \"x2\":x2, \"x3\":x3, \"y\":y})\n",
        "df\n",
        "\n",
        "# Data Split\n",
        "X = df.drop([\"y\"], axis=1)\n",
        "y = df[\"y\"]\n",
        "X = np.array(X)\n",
        "y = np.array(y)\n",
        "\n",
        "# Perceptron\n",
        "perceptron = Perceptron(alpha=0.5, n_epochs=2)\n",
        "perceptron.fit(X, y)"
      ],
      "metadata": {
        "id": "Rp3OUSN1OvoW",
        "colab": {
          "base_uri": "https://localhost:8080/"
        },
        "outputId": "9df6f128-ef2a-45cd-b75e-ab2122c497ad"
      },
      "execution_count": 50,
      "outputs": [
        {
          "output_type": "stream",
          "name": "stdout",
          "text": [
            "Epoch: 1 Accuracy: 0.75\n",
            "Epoch: 2 Accuracy: 1.0\n"
          ]
        }
      ]
    },
    {
      "cell_type": "code",
      "source": [
        "### Compared between Perceptron Algorithm and sklearn Perceptron \n",
        "# Import Data set\n",
        "import numpy as np\n",
        "import pandas as pd\n",
        "x0 = [1,1,1,1,1,1,1,1] # Bias\n",
        "x1 = [1,1,0,-1,1,-1,0,1]\n",
        "x2 = [4,2,0,4,0,-1,-4,0]\n",
        "x3 = [1,3,1,0,-2,1,0,-3]\n",
        "y = [1,1,1,1,0,0,0,0] # Target\n",
        "df = pd.DataFrame({\"x0\":x0, \"x1\":x1, \"x2\":x2, \"x3\":x3, \"y\":y})\n",
        "df\n",
        "\n",
        "# Data Split\n",
        "X = df.drop([\"y\"], axis=1)\n",
        "y = df[\"y\"]\n",
        "\n",
        "# Fit \n",
        "from sklearn.linear_model import Perceptron \n",
        "clf = Perceptron(alpha=0.5, n_jobs=-1, max_iter=2, random_state=22) \n",
        "clf.fit(X, y) \n",
        "clf.score(X, y)"
      ],
      "metadata": {
        "colab": {
          "base_uri": "https://localhost:8080/"
        },
        "id": "yEQzsS6vVNRL",
        "outputId": "a24905cb-9913-4e77-9b75-520657a9864d"
      },
      "execution_count": 38,
      "outputs": [
        {
          "output_type": "stream",
          "name": "stderr",
          "text": [
            "/usr/local/lib/python3.9/dist-packages/sklearn/linear_model/_stochastic_gradient.py:702: ConvergenceWarning: Maximum number of iteration reached before convergence. Consider increasing max_iter to improve the fit.\n",
            "  warnings.warn(\n"
          ]
        },
        {
          "output_type": "execute_result",
          "data": {
            "text/plain": [
              "0.875"
            ]
          },
          "metadata": {},
          "execution_count": 38
        }
      ]
    },
    {
      "cell_type": "markdown",
      "source": [
        "### ***Problem03***"
      ],
      "metadata": {
        "id": "y7OBhakGXxx3"
      }
    },
    {
      "cell_type": "code",
      "source": [
        "### MNIST Image Classification \n",
        "import numpy as np\n",
        "import matplotlib.pyplot as plt\n",
        "from sklearn.datasets import fetch_openml\n",
        "class NN:\n",
        "  def __init__(self, n_hidden, n_output, epochs, batch_size, learning_rate):\n",
        "    self.n_hidden = n_hidden\n",
        "    self.n_output = n_output\n",
        "    self.epochs = epochs\n",
        "    self.batch_size = batch_size\n",
        "    self.learning_rate = learning_rate\n",
        "\n",
        "  def sigmoid(self, x):\n",
        "    \"\"\"Compute the sigmoid function for the input here.\"\"\"\n",
        "    ### YOUR CODE HERE\n",
        "    s = 1.0 / (1+np.exp(-x))\n",
        "    ### END YOUR CODE\n",
        "    return s\n",
        "\n",
        "  def sigmoid_deriv(self, x):\n",
        "    \"\"\"Compute the derivative of the sigmoid function here.\"\"\"\n",
        "    ### YOUR CODE HERE\n",
        "    d = self.sigmoid(x) * (1-self.sigmoid(x))\n",
        "    ### END YOUR CODE\n",
        "    return d\n",
        "\n",
        "  def softmax(self, x):\n",
        "    \"\"\"Compute softmax function for input.\"\"\"\n",
        "    ### YOUR CODE HERE\n",
        "    s = np.exp(x) \n",
        "    s = s / s.sum(axis=0, keepdims=True) \n",
        "    ### END YOUR CODE\n",
        "    return s\n",
        "\n",
        "  def feed_forward(self, X):\n",
        "    \"\"\"\n",
        "    Forward propagation\n",
        "    return cache: a dictionary containing the activations of all the units\n",
        "    output: the predictions of the network\n",
        "    \"\"\"\n",
        "    ### YOUR CODE HERE\n",
        "    parameters = self.init_weights(784)\n",
        "    W1, b1, W2, b2 = parameters['W1'], parameters['b1'], parameters['W2'], parameters['b2']\n",
        "    Z1 = W1.dot(X) + b1\n",
        "    A1 = self.sigmoid(Z1)\n",
        "    Z2 = W2.dot(A1) + b2\n",
        "    A2 = self.softmax(Z2) \n",
        "    output = {\"Z1\": Z1,\n",
        "               \"A1\": A1,\n",
        "               \"Z2\": Z2,\n",
        "               \"A2\": A2}\n",
        "    ### END YOUR CODE\n",
        "    cache = {}\n",
        "    cache['Z1'] = Z1\n",
        "    cache['A1'] = A1\n",
        "    cache['Z2'] = Z2\n",
        "    cache['A2'] = A2\n",
        "    return cache, output\n",
        "\n",
        "  def back_propagate(self, X, y, cache, grads):\n",
        "    \"\"\"Return the gradients of the parameters\"\"\"\n",
        "    ### YOUR CODE HERE\n",
        "    m = X.shape[1] \n",
        "    y = self.one_hot_labels(y)\n",
        "    dZ2 = cache[\"A2\"] - y \n",
        "    dW2 = 1/m * (np.dot(dZ2, cache[\"A1\"].T))\n",
        "    db2 = 1/m * (np.sum(dZ2, axis=1, keepdims=True)) \n",
        "    dZ1 = np.dot(cache[\"W2\"].T, dZ2) * (1-np.power(cache[\"A1\"], 2)) \n",
        "    dW1 = 1/m * (np.dot(dZ1, X.T))\n",
        "    db1 = 1/m * (np.sum(dZ1, axis=1, keepdims=True))\n",
        "    ### END YOUR CODE. \n",
        "    grads = {}\n",
        "    grads['W1'] = dW1\n",
        "    grads['b1'] = db1\n",
        "    grads['W2'] = dW2\n",
        "    grads['b2'] = db2\n",
        "    return grads\n",
        "\n",
        "  def init_weights(self, num_input):\n",
        "    ### YOUR CODE HERE\n",
        "    W1 = np.random.randn(300, 784) * 0.1 \n",
        "    b1 = np.zeros((300, 1)) \n",
        "    W2 = np.random.randn(10, 300) * 0.1 \n",
        "    b2 = np.zeros((10, 1)) \n",
        "    parameters = {\"W1\": W1,\n",
        "                  \"b1\": b1,\n",
        "                  \"W2\": W2,\n",
        "                  \"b2\": b2}\n",
        "    return parameters\n",
        "    ### END YOUR CODE\n",
        "\n",
        "  def update_weights(self, grads):\n",
        "    ### YOUR CODE HERE\n",
        "    W1 = W1 - 5*grads[\"dW1\"]\n",
        "    b1 = b1 - 5*grads[\"db1\"] \n",
        "    W2 = W2 - 5*grads[\"dW2\"]\n",
        "    b2 = b2 - 5*grads[\"db2\"]\n",
        "    parameters = {\"W1\": W1, \"b1\": b1,\"W2\": W2,\"b2\": b2}\n",
        "    return parameters\n",
        "    ### END YOUR CODE\n",
        "\n",
        "  def compute_loss(self, y, output):\n",
        "    \"\"\"Return the cross-entropy loss\"\"\"\n",
        "    ### YOUR CODE HERE\n",
        "    m = y.shape[1]\n",
        "    y = self.one_hot_labels(y)\n",
        "    logprobs = np.multiply(np.log(output), y) + np.multiply(np.log(1-output), 1-y)\n",
        "    loss = -np.sum(logprobs) * (1/m)\n",
        "    ### END YOUR CODE\n",
        "    return loss\n",
        "\n",
        "  def train(self, X_train, y_train, X_val, y_val):\n",
        "    (n, m) = X_train.shape\n",
        "    parameters = self.init_weights(m)\n",
        "    ### YOUR CODE HERE\n",
        "    for i in range(0, self.epochs):\n",
        "      cache, output = self.feed_forward(X_train)\n",
        "      loss = self.compute_loss(y, output)\n",
        "      grads = self.back_propagate(X_train, y_train, cache)\n",
        "      parameters = self.update_weights(grads) \n",
        "    \n",
        "    cache, output = self.feed_forward(X_val, y_val) \n",
        "    accuracy = self.compute_accuracy(output, y_val)\n",
        "    return accuracy\n",
        "    ### END YOUR CODE\n",
        "\n",
        "  def test(self, X_test, y_test):\n",
        "    cache, output = self.feed_forward(X_test)\n",
        "    accuracy = self.compute_accuracy(output, y_test)\n",
        "    return accuracy\n",
        "\n",
        "  def compute_accuracy(self, y, output):\n",
        "    accuracy = (np.argmax(y, axis=1) == np.argmax(output, axis=1)).sum() * 1. / y.shape[0]\n",
        "    return accuracy\n",
        "\n",
        "  def one_hot_labels(self, y):\n",
        "    one_hot_labels = np.zeros((y.size, self.n_output))\n",
        "    one_hot_labels[np.arange(y.size), y.astype(int)] = 1\n",
        "    return one_hot_labels\n",
        "\n",
        "  def main():\n",
        "    nn = NN(n_hidden=300, n_output=10, epochs=30, batch_size=1000, learning_rate=5)\n",
        "    np.random.seed(100)\n",
        "    X, y = fetch_openml('mnist_784', return_X_y=True, as_frame=False)\n",
        "    X = (X / 255).astype('float32')\n",
        "    X_train, y_train = X[0:60000], y[0:60000]\n",
        "    y_train = nn.one_hot_labels(y_train)\n",
        "    p = np.random.permutation(60000)\n",
        "    X_train = X_train[p]\n",
        "    y_train = y_train[p]\n",
        "    X_val = X_train[0:10000]\n",
        "    y_val = y_train[0:10000]\n",
        "    X_train = X_train[10000:]\n",
        "    y_train = y_train[10000:]\n",
        "    X_test, y_test = X[60000:], y[60000:]\n",
        "    y_test = nn.one_hot_labels(y_test)\n",
        "    nn.train(X_train, y_train, X_val, y_val)\n",
        "    accuracy = nn.test(X_test, y_test)\n",
        "    print(f'Test accuracy: {accuracy}')\n",
        "\n",
        "if __name__ == '__main__':\n",
        "  main()"
      ],
      "metadata": {
        "id": "NJ_rSsYgdlgf",
        "colab": {
          "base_uri": "https://localhost:8080/",
          "height": 205
        },
        "outputId": "e781d5ea-31a4-471a-fdaf-6eaccb97c0e7"
      },
      "execution_count": 2,
      "outputs": [
        {
          "output_type": "error",
          "ename": "NameError",
          "evalue": "ignored",
          "traceback": [
            "\u001b[0;31m---------------------------------------------------------------------------\u001b[0m",
            "\u001b[0;31mNameError\u001b[0m                                 Traceback (most recent call last)",
            "\u001b[0;32m<ipython-input-2-68095a69b366>\u001b[0m in \u001b[0;36m<cell line: 161>\u001b[0;34m()\u001b[0m\n\u001b[1;32m    160\u001b[0m \u001b[0;34m\u001b[0m\u001b[0m\n\u001b[1;32m    161\u001b[0m \u001b[0;32mif\u001b[0m \u001b[0m__name__\u001b[0m \u001b[0;34m==\u001b[0m \u001b[0;34m'__main__'\u001b[0m\u001b[0;34m:\u001b[0m\u001b[0;34m\u001b[0m\u001b[0;34m\u001b[0m\u001b[0m\n\u001b[0;32m--> 162\u001b[0;31m   \u001b[0mmain\u001b[0m\u001b[0;34m(\u001b[0m\u001b[0;34m)\u001b[0m\u001b[0;34m\u001b[0m\u001b[0;34m\u001b[0m\u001b[0m\n\u001b[0m",
            "\u001b[0;31mNameError\u001b[0m: name 'main' is not defined"
          ]
        }
      ]
    },
    {
      "cell_type": "code",
      "source": [],
      "metadata": {
        "id": "8faV_2YFY5AQ"
      },
      "execution_count": null,
      "outputs": []
    }
  ]
}